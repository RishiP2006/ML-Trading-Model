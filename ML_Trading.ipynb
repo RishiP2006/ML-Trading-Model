{
  "nbformat": 4,
  "nbformat_minor": 0,
  "metadata": {
    "colab": {
      "provenance": [],
      "authorship_tag": "ABX9TyN01vxaKMXvad/rwEGngA+T",
      "include_colab_link": true
    },
    "kernelspec": {
      "name": "python3",
      "display_name": "Python 3"
    },
    "language_info": {
      "name": "python"
    }
  },
  "cells": [
    {
      "cell_type": "markdown",
      "metadata": {
        "id": "view-in-github",
        "colab_type": "text"
      },
      "source": [
        "<a href=\"https://colab.research.google.com/github/RishiP2006/ML-Trading-Model/blob/main/ML_Trading.ipynb\" target=\"_parent\"><img src=\"https://colab.research.google.com/assets/colab-badge.svg\" alt=\"Open In Colab\"/></a>"
      ]
    },
    {
      "cell_type": "code",
      "execution_count": 1,
      "metadata": {
        "id": "YhYxtANIO4Qi"
      },
      "outputs": [],
      "source": [
        "import numpy as np\n",
        "import pandas as pd\n",
        "import matplotlib.pyplot as plt\n",
        "import seaborn as sns\n",
        "\n",
        "from sklearn.ensemble import RandomForestClassifier\n",
        "from sklearn.model_selection import train_test_split\n",
        "from sklearn.preprocessing import StandardScaler\n",
        "from sklearn.metrics import classification_report\n",
        "\n",
        "import yfinance as yf\n"
      ]
    },
    {
      "cell_type": "code",
      "source": [
        "# Load Nifty50 historical data\n",
        "nifty = yf.download(\"^NSEI\", start=\"2015-01-01\", end=\"2024-12-31\", auto_adjust=False)\n",
        "\n",
        "# Create technical indicators (features)\n",
        "nifty[\"Returns\"] = nifty[\"Adj Close\"].pct_change()\n",
        "nifty[\"SMA_10\"] = nifty[\"Adj Close\"].rolling(window=10).mean()\n",
        "nifty[\"SMA_50\"] = nifty[\"Adj Close\"].rolling(window=50).mean()\n",
        "nifty[\"Volatility\"] = nifty[\"Returns\"].rolling(window=10).std()\n",
        "\n",
        "# Drop NaN values\n",
        "nifty.dropna(inplace=True)\n"
      ],
      "metadata": {
        "colab": {
          "base_uri": "https://localhost:8080/"
        },
        "id": "ucmoysTMaZkA",
        "outputId": "36349730-2bab-4fec-e979-fa1c8fa4aafe"
      },
      "execution_count": 2,
      "outputs": [
        {
          "output_type": "stream",
          "name": "stderr",
          "text": [
            "\r[*********************100%***********************]  1 of 1 completed\n"
          ]
        }
      ]
    },
    {
      "cell_type": "code",
      "source": [
        "# Define target variable (1 = Buy, -1 = Sell, 0 = Hold)\n",
        "nifty[\"Signal\"] = 0\n",
        "nifty.loc[nifty[\"SMA_10\"] > nifty[\"SMA_50\"], \"Signal\"] = 1  # Buy\n",
        "nifty.loc[nifty[\"SMA_10\"] < nifty[\"SMA_50\"], \"Signal\"] = -1  # Sell\n"
      ],
      "metadata": {
        "id": "-6wSE1s_a2np"
      },
      "execution_count": 3,
      "outputs": []
    },
    {
      "cell_type": "code",
      "source": [
        "# Prepare data\n",
        "features = [\"SMA_10\", \"SMA_50\", \"Volatility\"]\n",
        "X = nifty[features]\n",
        "y = nifty[\"Signal\"]\n",
        "\n",
        "# Train-test split (Train: 2015-2022, Test: 2024)\n",
        "train_data = nifty.loc[\"2015\":\"2022\"]\n",
        "test_data = nifty.loc[\"2024\"]\n",
        "\n",
        "X_train, X_test = train_data[features], test_data[features]\n",
        "y_train, y_test = train_data[\"Signal\"], test_data[\"Signal\"]\n",
        "\n",
        "# Scale data\n",
        "scaler = StandardScaler()\n",
        "X_train_scaled = scaler.fit_transform(X_train)\n",
        "X_test_scaled = scaler.transform(X_test)\n",
        "\n",
        "# Train RandomForest model\n",
        "model = RandomForestClassifier(n_estimators=100, random_state=42)\n",
        "model.fit(X_train_scaled, y_train)\n",
        "\n",
        "# Make predictions\n",
        "y_pred = model.predict(X_test_scaled)\n",
        "\n",
        "# Evaluate performance\n",
        "print(classification_report(y_test, y_pred))\n",
        "\n",
        "# Add predictions to test data\n",
        "test_data[\"Predicted_Signal\"] = y_pred\n"
      ],
      "metadata": {
        "colab": {
          "base_uri": "https://localhost:8080/"
        },
        "id": "lEu6rEtFa4-D",
        "outputId": "62412385-e0f4-4497-ba57-02cbbf450bd4"
      },
      "execution_count": 4,
      "outputs": [
        {
          "output_type": "stream",
          "name": "stdout",
          "text": [
            "              precision    recall  f1-score   support\n",
            "\n",
            "          -1       0.23      0.29      0.25        48\n",
            "           1       0.81      0.76      0.78       197\n",
            "\n",
            "    accuracy                           0.67       245\n",
            "   macro avg       0.52      0.52      0.52       245\n",
            "weighted avg       0.70      0.67      0.68       245\n",
            "\n"
          ]
        },
        {
          "output_type": "stream",
          "name": "stderr",
          "text": [
            "<ipython-input-4-06276f152d22>:29: SettingWithCopyWarning: \n",
            "A value is trying to be set on a copy of a slice from a DataFrame.\n",
            "Try using .loc[row_indexer,col_indexer] = value instead\n",
            "\n",
            "See the caveats in the documentation: https://pandas.pydata.org/pandas-docs/stable/user_guide/indexing.html#returning-a-view-versus-a-copy\n",
            "  test_data[\"Predicted_Signal\"] = y_pred\n"
          ]
        }
      ]
    },
    {
      "cell_type": "code",
      "source": [
        "# Initialize trading parameters\n",
        "initial_capital = 100000  # Starting capital\n",
        "capital = initial_capital\n",
        "position = 0  # No open positions initially\n",
        "trade_log = []  # List to store trade history\n",
        "\n",
        "# Risk Management Settings\n",
        "risk_per_trade = 0.2  # Allocate only 20% of capital per trade\n",
        "stop_loss_pct = 0.01  # Stop loss at 1% below purchase price\n",
        "take_profit_pct = 0.05  # Take profit at 5% above purchase price\n",
        "max_drawdown_pct = 0.25  # Stop trading if capital drops 25% from peak\n",
        "\n",
        "# Track highest capital to enforce max drawdown\n",
        "highest_capital = capital\n",
        "\n",
        "# Simulate trading\n",
        "for i in range(1, len(test_data)):\n",
        "    try:\n",
        "        predicted_signal = test_data[\"Predicted_Signal\"].iloc[i]\n",
        "\n",
        "        # Ensure it's a single integer value\n",
        "        if isinstance(predicted_signal, (pd.Series, np.ndarray)):\n",
        "            predicted_signal = predicted_signal.iloc[0]  # Take first value if it's a Series\n",
        "        predicted_signal = int(predicted_signal)  # Convert to integer\n",
        "\n",
        "        # Ensure close price is a float without triggering a warning\n",
        "        close_price = test_data[\"Adj Close\"].iloc[i].item()\n",
        "\n",
        "        # Check max drawdown limit\n",
        "        if capital < highest_capital * (1 - max_drawdown_pct):\n",
        "            print(\"Max drawdown reached. Stopping trading.\")\n",
        "            break\n",
        "\n",
        "        # Trading logic with risk management\n",
        "        if predicted_signal == 1 and position == 0:  # Buy\n",
        "            trade_capital = capital * risk_per_trade  # Only use a portion of capital\n",
        "            position = trade_capital / close_price\n",
        "            capital -= trade_capital\n",
        "            entry_price = close_price  # Store entry price for stop-loss/take-profit tracking\n",
        "            trade_log.append((\"Buy\", test_data.index[i], close_price))\n",
        "\n",
        "        elif predicted_signal == -1 and position > 0:  # Sell\n",
        "            capital += position * close_price\n",
        "            position = 0\n",
        "            trade_log.append((\"Sell\", test_data.index[i], close_price))\n",
        "\n",
        "        # Risk management: Check stop-loss & take-profit\n",
        "        if position > 0:\n",
        "            if close_price <= entry_price * (1 - stop_loss_pct):\n",
        "                capital += position * close_price  # Sell at stop-loss price\n",
        "                position = 0\n",
        "                trade_log.append((\"Stop-Loss Sell\", test_data.index[i], close_price))\n",
        "\n",
        "            elif close_price >= entry_price * (1 + take_profit_pct):\n",
        "                capital += position * close_price  # Sell at take-profit price\n",
        "                position = 0\n",
        "                trade_log.append((\"Take-Profit Sell\", test_data.index[i], close_price))\n",
        "\n",
        "        # Update highest capital to track drawdown\n",
        "        highest_capital = max(highest_capital, capital)\n",
        "\n",
        "    except Exception as e:\n",
        "        print(f\"Error at index {i}: {e}\")  # Debugging if something goes wrong\n",
        "\n",
        "# Ensure final position is closed\n",
        "if position > 0:\n",
        "    capital += position * test_data[\"Adj Close\"].iloc[-1].item()\n",
        "    position = 0\n",
        "    trade_log.append((\"Final Sell\", test_data.index[-1], test_data[\"Adj Close\"].iloc[-1].item()))\n",
        "\n",
        "# Print final capital after all trades\n",
        "print(f\"Final Capital: {capital}\")\n",
        "print(f\"Number of Trades: {len(trade_log)}\")\n",
        "\n",
        "# Show trade log\n",
        "for trade in trade_log:\n",
        "    print(trade)\n"
      ],
      "metadata": {
        "id": "P2bdtBbEa7I-",
        "colab": {
          "base_uri": "https://localhost:8080/"
        },
        "outputId": "19f61518-a9cc-4235-b723-3fb5cd486e37"
      },
      "execution_count": 12,
      "outputs": [
        {
          "output_type": "stream",
          "name": "stdout",
          "text": [
            "Final Capital: 101138.2864186007\n",
            "Number of Trades: 42\n",
            "('Buy', Timestamp('2024-01-02 00:00:00'), 21665.80078125)\n",
            "('Sell', Timestamp('2024-01-17 00:00:00'), 21571.94921875)\n",
            "('Buy', Timestamp('2024-02-07 00:00:00'), 21930.5)\n",
            "('Sell', Timestamp('2024-02-08 00:00:00'), 21717.94921875)\n",
            "('Buy', Timestamp('2024-02-12 00:00:00'), 21616.05078125)\n",
            "('Sell', Timestamp('2024-03-13 00:00:00'), 21997.69921875)\n",
            "('Buy', Timestamp('2024-03-14 00:00:00'), 22146.650390625)\n",
            "('Sell', Timestamp('2024-03-15 00:00:00'), 22023.349609375)\n",
            "('Buy', Timestamp('2024-03-18 00:00:00'), 22055.69921875)\n",
            "('Stop-Loss Sell', Timestamp('2024-03-19 00:00:00'), 21817.44921875)\n",
            "('Buy', Timestamp('2024-03-20 00:00:00'), 21839.099609375)\n",
            "('Take-Profit Sell', Timestamp('2024-05-23 00:00:00'), 22967.650390625)\n",
            "('Buy', Timestamp('2024-05-24 00:00:00'), 22957.099609375)\n",
            "('Stop-Loss Sell', Timestamp('2024-05-29 00:00:00'), 22704.69921875)\n",
            "('Buy', Timestamp('2024-05-30 00:00:00'), 22488.650390625)\n",
            "('Sell', Timestamp('2024-06-03 00:00:00'), 23263.900390625)\n",
            "('Buy', Timestamp('2024-06-20 00:00:00'), 23567.0)\n",
            "('Take-Profit Sell', Timestamp('2024-07-18 00:00:00'), 24800.849609375)\n",
            "('Buy', Timestamp('2024-07-19 00:00:00'), 24530.900390625)\n",
            "('Sell', Timestamp('2024-08-05 00:00:00'), 24055.599609375)\n",
            "('Buy', Timestamp('2024-08-20 00:00:00'), 24698.849609375)\n",
            "('Take-Profit Sell', Timestamp('2024-09-23 00:00:00'), 25939.05078125)\n",
            "('Buy', Timestamp('2024-09-24 00:00:00'), 25940.400390625)\n",
            "('Sell', Timestamp('2024-10-03 00:00:00'), 25250.099609375)\n",
            "('Buy', Timestamp('2024-10-16 00:00:00'), 24971.30078125)\n",
            "('Stop-Loss Sell', Timestamp('2024-10-22 00:00:00'), 24472.099609375)\n",
            "('Buy', Timestamp('2024-10-23 00:00:00'), 24435.5)\n",
            "('Stop-Loss Sell', Timestamp('2024-10-25 00:00:00'), 24180.80078125)\n",
            "('Buy', Timestamp('2024-10-28 00:00:00'), 24339.150390625)\n",
            "('Stop-Loss Sell', Timestamp('2024-11-04 00:00:00'), 23995.349609375)\n",
            "('Buy', Timestamp('2024-11-05 00:00:00'), 24213.30078125)\n",
            "('Sell', Timestamp('2024-11-07 00:00:00'), 24199.349609375)\n",
            "('Buy', Timestamp('2024-11-08 00:00:00'), 24148.19921875)\n",
            "('Stop-Loss Sell', Timestamp('2024-11-12 00:00:00'), 23883.44921875)\n",
            "('Buy', Timestamp('2024-11-19 00:00:00'), 23518.5)\n",
            "('Sell', Timestamp('2024-11-22 00:00:00'), 23907.25)\n",
            "('Buy', Timestamp('2024-12-06 00:00:00'), 24677.80078125)\n",
            "('Stop-Loss Sell', Timestamp('2024-12-17 00:00:00'), 24336.0)\n",
            "('Buy', Timestamp('2024-12-18 00:00:00'), 24198.849609375)\n",
            "('Stop-Loss Sell', Timestamp('2024-12-19 00:00:00'), 23951.69921875)\n",
            "('Buy', Timestamp('2024-12-20 00:00:00'), 23587.5)\n",
            "('Final Sell', Timestamp('2024-12-30 00:00:00'), 23644.900390625)\n"
          ]
        }
      ]
    }
  ]
}